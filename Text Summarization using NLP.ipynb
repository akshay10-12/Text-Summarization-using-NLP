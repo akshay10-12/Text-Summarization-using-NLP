{
 "cells": [
  {
   "cell_type": "markdown",
   "metadata": {},
   "source": [
    "## Text Summarization using NLP - Overview\n",
    "\n",
    "The main objective of this project is to build a function that can take in any huge piece of text and shorten it to give a gist, or summary of the information. We know that the internet contains large volumes of data, both descriptive as well as quantitiative. While the quantitative data can be analysed in several ways, it becomes cumbersome to read through the huge paragraphs. So, the most effieicnt way to get access to these important parts of the data is too summarize the data in a way that it contains non-redundant and useful information only.  <br> <br> \n",
    "Text summarization is a subdomain of Natural Language Processing (NLP) that deals with extracting summaries from huge chunks of texts. There are two main types of techniques used for text summarization: NLP-based techniques and deep learning-based techniques. In this notebook, we will see a simple NLP-based technique for text summarization"
   ]
  },
  {
   "cell_type": "markdown",
   "metadata": {},
   "source": [
    "### Steps involved in Text Summarization using NLP\n",
    "\n",
    "- <b> Converting paragraphs to sentences </b>\n",
    "- <b> Text pre-processing -</b> Removing special characters, stop words, lower casing the text.\n",
    "- <b> Tokenizing the sentences -</b> Tokenizing the sentences to get all the words that exist in the sentences. \n",
    "- <b> Finding the weighted frequency of occurrence </b> - Getting the weighted frequency of each word by finding the frequency of each word divided by the maximum frequency of a particular word. \n",
    "- <b> Replace the words by their weighted frequency in the original sentences - </b> Plug the weighted frequencies of the words in the sentences and find the sum.\n",
    "- <b> Sort sentences in the descending order of sum - </b> The sentences with the highest frequenices summarize the text. The number of sentences that need to be taken depends on what size of summary we need. "
   ]
  },
  {
   "cell_type": "code",
   "execution_count": 1,
   "metadata": {},
   "outputs": [],
   "source": [
    "#!pip install newspaper3k\n",
    "\n",
    "#Library to perform necessary operations involving text"
   ]
  },
  {
   "cell_type": "code",
   "execution_count": 2,
   "metadata": {},
   "outputs": [
    {
     "name": "stdout",
     "output_type": "stream",
     "text": [
      "Requirement already satisfied: beautifulsoup4 in c:\\users\\akshay\\downloads\\new folder\\lib\\site-packages (4.9.3)\n",
      "Requirement already satisfied: soupsieve>1.2; python_version >= \"3.0\" in c:\\users\\akshay\\downloads\\new folder\\lib\\site-packages (from beautifulsoup4) (2.0.1)\n"
     ]
    }
   ],
   "source": [
    "!pip install beautifulsoup4\n",
    "#A useful library for web scraping"
   ]
  },
  {
   "cell_type": "code",
   "execution_count": 3,
   "metadata": {},
   "outputs": [
    {
     "name": "stdout",
     "output_type": "stream",
     "text": [
      "Requirement already satisfied: lxml in c:\\users\\akshay\\downloads\\new folder\\lib\\site-packages (4.6.1)\n"
     ]
    }
   ],
   "source": [
    "!pip install lxml\n",
    "#A library to parse XML and HTML"
   ]
  },
  {
   "cell_type": "code",
   "execution_count": 4,
   "metadata": {},
   "outputs": [],
   "source": [
    "from newspaper import Article\n",
    "import re\n",
    "import bs4 as bs\n",
    "import urllib.request\n",
    "import numpy as np\n",
    "import nltk"
   ]
  },
  {
   "cell_type": "markdown",
   "metadata": {},
   "source": [
    "### Loading the parent text\n",
    "\n",
    "The url of the article we would summarize is mentioned below"
   ]
  },
  {
   "cell_type": "code",
   "execution_count": 5,
   "metadata": {},
   "outputs": [],
   "source": [
    "url = \"https://en.wikipedia.org/wiki/FIFA_World_Cup\""
   ]
  },
  {
   "cell_type": "code",
   "execution_count": 6,
   "metadata": {},
   "outputs": [],
   "source": [
    "#Using the urlopen function from the urllib.request library to scrap the data\n",
    "scraped_data = urllib.request.urlopen('https://en.wikipedia.org/wiki/FIFA_World_Cup')\n",
    "\n",
    "#Reading the data\n",
    "article = scraped_data.read()\n",
    "\n",
    "#To parse the data, we use beautiful soup library\n",
    "parsed_article = bs.BeautifulSoup(article, 'lxml')\n",
    "paragraphs = parsed_article.find_all('p')\n",
    "\n",
    "article_text = \"\"\n",
    "\n",
    "for p in paragraphs:\n",
    "    article_text += p.text"
   ]
  },
  {
   "cell_type": "code",
   "execution_count": 7,
   "metadata": {},
   "outputs": [
    {
     "data": {
      "text/plain": [
       "'\\nThe FIFA World Cup, often simply called the World Cup, is an international association football competition contested by the senior men\\'s national teams of the members of the Fédération Internationale de Football Association (FIFA), the sport\\'s global governing body. The tournament has been held every four years since the inaugural tournament in 1930, except in 1942 and 1946 when it was not held because of the Second World War. The reigning champions are France, who won their second title at the 2018 tournament in Russia.\\nThe format involves a qualification phase, which takes place over the preceding three years, to determine which teams qualify for the tournament phase. In the tournament phase, 32 teams compete for the title at venues within the host nation(s) over about a month. The host nation(s) automatically qualify.\\nAs of the 2018 FIFA World Cup, twenty-one final tournaments have been held and a total of 79 national teams have competed. The trophy has been won by eight national teams. Brazil have won five times, and they are the only team to have played in every tournament. The other World Cup winners are Germany and Italy, with four titles each; Argentina, France, and inaugural winner Uruguay, with two titles each; and England and Spain, with one title each.\\nThe World Cup is the most prestigious association football tournament in the world, as well as the most widely viewed and followed single sporting event in the world. The cumulative viewership of all matches of the 2006 World Cup was estimated to be 26.29\\xa0billion with an estimated 715.1\\xa0million people watching the final match, a ninth of the entire population of the planet.[1][2][3][4]\\nSeventeen countries have hosted the World Cup. Brazil, France, Italy, Germany, and Mexico have each hosted twice, while Uruguay, Switzerland, Sweden, Chile, England, Argentina, Spain, the United States, Japan and South Korea (the latter two jointly), South Africa, and Russia have each hosted once. Qatar is hosting the 2022 tournament, and 2026 will be jointly hosted by Canada, the United States, and Mexico, which will give Mexico the distinction of being the first country to host games in three World Cups.\\nThe world\\'s first international football match was a challenge match played in Glasgow in 1872 between Scotland and England.[5] The first international tournament for nations, the inaugural British Home Championship, took place in 1884.[6] As football grew in popularity in other parts of the world at the start of the 20th century, it was held as a demonstration sport with no medals awarded at the 1900 and 1904 Summer Olympics (however, the International Olympic Committee has retroactively upgraded their status to official events), and at the 1906 Intercalated Games.[7]\\nAfter FIFA was founded in 1904, it tried to arrange an international football tournament between nations outside the Olympic framework in Switzerland in 1906. These were very early days for international football, and the official history of FIFA describes the competition as having been a failure.[8]\\nAt the 1908 Summer Olympics in London, football became an official competition. Planned by The Football Association (FA), England\\'s football governing body, the event was for amateur players only and was regarded suspiciously as a show rather than a competition. Great Britain (represented by the England national amateur football team) won the gold medals. They repeated the feat at the 1912 Summer Olympics in Stockholm.[9]\\nWith the Olympic event continuing to be contested only between amateur teams, Sir Thomas Lipton organised the Sir Thomas Lipton Trophy tournament in Turin in 1909. The Lipton tournament was a championship between individual clubs (not national teams) from different nations, each one of which represented an entire nation. The competition is sometimes described as The First World Cup,[10] and featured the most prestigious professional club sides from Italy, Germany and Switzerland, but the FA of England refused to be associated with the competition and declined the offer to send a professional team. Lipton invited West Auckland, an amateur side from County Durham, to represent England instead. West Auckland won the tournament and returned in 1911 to successfully defend their title.[11] Prior to the Lipton competition, from 1876 to 1904, games that were considered the \"football world championship\" were meetings between leading English and Scottish clubs, such as the 1895 game between Sunderland A.F.C. and the Heart of Midlothian F.C., which Sunderland won.[12]\\nIn 1914, FIFA agreed to recognise the Olympic tournament as a \"world football championship for amateurs\", and took responsibility for managing the event.[13] This paved the way for the world\\'s first intercontinental football competition for nations, at the 1920 Summer Olympics, contested by Egypt and 13 European teams, and won by Belgium.[14] Uruguay won the next two Olympic football tournaments in 1924 and 1928. Those were also the first two open world championships, as 1924 was the start of FIFA\\'s professional era, and is the reason why Uruguay is allowed to wear 4 stars.[15][16]\\nDue to the success of the Olympic football tournaments, FIFA, with President Jules Rimet as the driving force, again started looking at staging its own international tournament outside of the Olympics. On 28 May 1928, the FIFA Congress in Amsterdam decided to stage a world championship itself.[17] With Uruguay now two-time official football world champions and to celebrate their centenary of independence in 1930, FIFA named Uruguay as the host country of the inaugural World Cup tournament.[18]\\nThe national associations of selected nations were invited to send a team, but the choice of Uruguay as a venue for the competition meant a long and costly trip across the Atlantic Ocean for European sides in the context of an economic crisis. As such, no European country pledged to send a team until two months before the start of the competition. Rimet eventually persuaded teams from Belgium, France, Romania, and Yugoslavia to make the trip.[18] In total, 13 nations took part: seven from South America, four from Europe, and two from North America.[19]\\nThe first two World Cup matches took place simultaneously on 13 July 1930, and were won by France and the US, who defeated Mexico 4–1 and Belgium 3–0 respectively. The first goal in World Cup history was scored by Lucien Laurent of France.[20] In the final, Uruguay defeated Argentina 4–2 in front of 93,000 people in Montevideo, and became the first nation to win the World Cup.[21] After the creation of the World Cup, FIFA and the IOC disagreed over the status of amateur players, and so football was dropped from the 1932 Summer Olympics.[22][23] After the IOC and FIFA worked out their differences, Olympic football returned at the 1936 Summer Olympics, but was now overshadowed by the more prestigious World Cup.[22]\\nThe issues facing the early World Cup tournaments were the difficulties of intercontinental travel, and war. Few South American teams were willing to travel to Europe for the 1934 World Cup and all North and South American nations except Brazil and Cuba boycotted the 1938 tournament. Brazil was the only South American team to compete in both. The 1942 and 1946 competitions, which Germany and Brazil sought to host,[24] were cancelled due to World War II and its aftermath.[25]\\nThe 1950 World Cup, held in Brazil, was the first to include British participants. British teams withdrew from FIFA in 1920, partly out of unwillingness to play against the countries they had been at war with, and partly as a protest against foreign influence on football,[26] but rejoined in 1946 following FIFA\\'s invitation.[27] The tournament also saw the return of 1930 champions Uruguay, who had boycotted the previous two World Cups. Uruguay won the tournament again after defeating the host nation Brazil, in the match called \"Maracanazo\" (Portuguese: Maracanaço).[28]\\nIn the tournaments between 1934 and 1978, 16 teams competed in each tournament, except in 1938, when Austria was absorbed into Germany after qualifying, leaving the tournament with 15 teams, and in 1950, when India, Scotland, and Turkey withdrew, leaving the tournament with 13 teams.[29] Most of the participating nations were from Europe and South America, with a small minority from North America, Africa, Asia, and Oceania. These teams were usually defeated easily by the European and South American teams. Until 1982, the only teams from outside Europe and South America to advance out of the first round were: USA, semi-finalists in 1930; Cuba, quarter-finalists in 1938; North Korea, quarter-finalists in 1966; and Mexico, quarter-finalists in 1970.\\nThe tournament was expanded to 24 teams in 1982,[30] and then to 32 in 1998,[31] allowing more teams from Africa, Asia and North America to take part. Since then, teams from these regions have enjoyed more success, with several having reached the quarter-finals: Mexico, quarter-finalists in 1986; Cameroon, quarter-finalists in 1990; South Korea, finishing in fourth place in 2002; Senegal, along with USA, both quarter-finalists in 2002; Ghana, quarter-finalists in 2010; and Costa Rica, quarter-finalists in 2014. European and South American teams continue to dominate, e.g., the quarter-finalists in 1994, 1998, 2006 and 2018 were all from Europe or South America and so were the finalists of all tournaments so far.\\nTwo hundred teams entered the 2002 FIFA World Cup qualification rounds. 198 nations attempted to qualify for the 2006 FIFA World Cup. A record 204 countries entered qualification for the 2010 FIFA World Cup.[32]\\nIn October 2013, Sepp Blatter spoke of guaranteeing the Caribbean Football Union\\'s region a position in the World Cup.[33] In the edition of 25 October 2013 of the FIFA Weekly Blatter wrote that: \"From a purely sporting perspective, I would like to see globalisation finally taken seriously, and the African and Asian national associations accorded the status they deserve at the FIFA World Cup. It cannot be that the European and South American confederations lay claim to the majority of the berths at the World Cup.\"[34] Those two remarks suggested to commentators that Blatter could be putting himself forward for re-election to the FIFA Presidency.[35]\\nFollowing the magazine\\'s publication, Blatter\\'s would-be opponent for the FIFA Presidency, UEFA President Michel Platini, responded that he intended to extend the World Cup to 40 national associations, increasing the number of participants by eight. Platini said that he would allocate an additional berth to UEFA, two each to the Asian Football Confederation and the Confederation of African Football, two shared between CONCACAF and CONMEBOL, and a guaranteed place for the Oceania Football Confederation.[36] Platini was clear about why he wanted to expand the World Cup. He said: \"[The World Cup is] not based on the quality of the teams because you don\\'t have the best 32 at the World Cup\\xa0... but it\\'s a good compromise.\\xa0... It\\'s a political matter so why not have more Africans? The competition is to bring all the people of all the world. If you don\\'t give the possibility to participate, they don\\'t improve.\"[36]\\nIn October 2016, FIFA president Gianni Infantino stated his support for a 48-team World Cup in 2026.[37] On 10 January 2017, FIFA confirmed the 2026 World Cup will have 48 finalist teams.[38]\\nBy May 2015, the games were under a particularly dark cloud because of the 2015 FIFA corruption case, allegations and criminal charges of bribery, fraud and money laundering to corrupt the issuing of media and marketing rights (rigged bids) for FIFA games,[39] with FIFA officials accused of taking bribes totaling more than $150\\xa0million over 24 years. In late May, the US Department of Justice announced a 47-count indictment with charges of racketeering, wire fraud and money laundering conspiracy against 14 people. Arrests of over a dozen FIFA officials were made since that time, particularly on 29 May and 3 December.[40] By the end of May 2015, a total of nine FIFA officials and five executives of sports and broadcasting markets had already been charged on corruption. At the time, FIFA president Sepp Blatter announced he would relinquish his position in February 2016.[41]\\nOn 4 June 2015 Chuck Blazer while co-operating with the FBI and the Swiss authorities admitted that he and the other members of FIFA\\'s then-executive committee were bribed in order to promote the 1998 and 2010 World Cups.[42] On 10 June 2015, Swiss authorities seized computer data from the offices of Sepp Blatter.[43] The same day, FIFA postponed the bidding process for the 2026 FIFA World Cup in light of the allegations surrounding bribery in the awarding of the 2018 and 2022 tournaments. Then-secretary general Jérôme Valcke stated, \"Due to the situation, I think it\\'s nonsense to start any bidding process for the time being.\"[44] On 28 October 2015, Blatter and FIFA VP Michel Platini, a potential candidate for presidency, were suspended for 90 days; both maintained their innocence in statements made to the news media.[45]\\nOn 3 December 2015 two FIFA vice-presidents were arrested on suspicion of bribery in the same Zurich hotel where seven FIFA officials had been arrested in May.[46] An additional 16 indictments by the US Department of Justice were announced on the same day.[47]\\nA biennial World Cup plan was first proposed by the Saudi Arabian Football Federation at the 71st FIFA Congress on 21 May 2021 and prominently backed by former Arsenal manager Arsène Wenger and national federations in Africa and Asia. However, according to a FIFA-commissioned poll and the FIFA Council discussion on 20 October 2021, the majority of football fans still support the four-year World Cup cycle — and continental confederations such as UEFA and CONMEBOL are not on board with the plan.[48][49]\\nAn equivalent tournament for women\\'s football, the FIFA Women\\'s World Cup, was first held in 1991 in China.[50] The women\\'s tournament is smaller in scale and profile than the men\\'s, but is growing; the number of entrants for the 2007 tournament was 120, more than double that of 1991.[51]\\nMen\\'s football has been included in every Summer Olympic Games except 1896 and 1932. Unlike many other sports, the men\\'s football tournament at the Olympics is not a top-level tournament, and since 1992, an under-23 tournament with each team allowed three over-age players.[52] Women\\'s football made its Olympic debut in 1996.\\nThe FIFA Confederations Cup was a tournament held one year before the World Cup at the World Cup host nation(s) as a dress rehearsal for the upcoming World Cup. It is contested by the winners of each of the six FIFA confederation championships, along with the FIFA World Cup champion and the host country.[53] The first edition took place in 1992 and the last edition was played in 2017. In March 2019, FIFA confirmed that the tournament would no longer be active owing to an expansion of the FIFA Club World Cup in 2021.[54]\\nFIFA also organises international tournaments for youth football (FIFA U-20 World Cup, FIFA U-17 World Cup, FIFA U-20 Women\\'s World Cup, FIFA U-17 Women\\'s World Cup), club football (FIFA Club World Cup), and football variants such as futsal (FIFA Futsal World Cup) and beach soccer (FIFA Beach Soccer World Cup). The latter three do not have a women\\'s version, although a FIFA Women\\'s Club World Cup has been proposed.[55]\\nThe FIFA U-20 Women\\'s World Cup is held biannually, including the year before each Women\\'s World Cup. Both tournaments were awarded in a single bidding process on three occasions, with the U-20 tournament serving as a dress rehearsal for the larger competition each time (2010, 2014 and 2018).[56]\\nFrom 1930 to 1970, the Jules Rimet Trophy was awarded to the World Cup winning team. It was originally simply known as the World Cup or Coupe du Monde, but in 1946 it was renamed after the FIFA president Jules Rimet who set up the first tournament. In 1970, Brazil\\'s third victory in the tournament entitled them to keep the trophy permanently. However, the trophy was stolen in 1983 and has never been recovered, apparently melted down by the thieves.[57]\\nAfter 1970, a new trophy, known as the FIFA World Cup Trophy, was designed. The experts of FIFA, coming from seven countries, evaluated the 53 presented models, finally opting for the work of the Italian designer Silvio Gazzaniga. The new trophy is 36\\xa0cm (14.2\\xa0in) high, made of solid 18 carat (75%) gold and weighs 6.175\\xa0kg (13.6\\xa0lb).[58]\\nThe base contains two layers of semi-precious malachite while the bottom side of the trophy bears the engraved year and name of each FIFA World Cup winner since 1974.[58] The description of the trophy by Gazzaniga was: \"The lines spring out from the base, rising in spirals, stretching out to receive the world. From the remarkable dynamic tensions of the compact body of the sculpture rise the figures of two athletes at the stirring moment of victory.\"[59]\\nThis new trophy is not awarded to the winning nation permanently. World Cup winners retain the trophy only until the post-match celebration is finished. They are awarded a gold-plated replica rather than the solid gold original immediately afterwards.[60]\\nAll members (players, coaches, and managers) of the top three teams receive medals with an insignia of the World Cup Trophy; winners\\' (gold), runners-up\\' (silver), and third-place (bronze). In the 2002 edition, fourth-place medals were awarded to hosts South Korea. Before the 1978 tournament, medals were only awarded to the eleven players on the pitch at the end of the final and the third-place match. In November 2007, FIFA announced that all members of World Cup-winning squads between 1930 and 1974 were to be retroactively awarded winners\\' medals.[61][62][63]\\nSince 2006, winners of the competition are also awarded the right to wear the FIFA Champions Badge, up until the time at which the winner of the next competition is decided.[64]\\nSince the second World Cup in 1934, qualifying tournaments have been held to thin the field for the final tournament.[65] They are held within the six FIFA continental zones (Africa, Asia, North and Central America and Caribbean, South America, Oceania, and Europe), overseen by their respective confederations. For each tournament, FIFA decides the number of places awarded to each of the continental zones beforehand, generally based on the relative strength of the confederations\\' teams.\\nThe qualification process can start as early as almost three years before the final tournament and last over a two-year period. The formats of the qualification tournaments differ between confederations. Usually, one or two places are awarded to winners of intercontinental play-offs. For example, the winner of the Oceanian zone and the fifth-placed team from the Asian zone entered a play-off for a spot in the 2010 World Cup.[66] From the 1938 World Cup onwards, host nations receive automatic qualification to the final tournament. This right was also granted to the defending champions between 1938 and 2002, but was withdrawn from the 2006 FIFA World Cup onward, requiring the champions to qualify. Brazil, winners in 2002, were the first defending champions to play qualifying matches.[67]\\nThe final tournament format since 1998 has 32 national teams competing over the course of a month in the host nations. There are two stages: the group stage followed by the knockout stage.[68]\\nIn the group stage, teams compete within eight groups of four teams each. Eight teams are seeded, including the hosts, with the other seeded teams selected using a formula based on the FIFA World Rankings or performances in recent World Cups, and drawn to separate groups.[69] The other teams are assigned to different \"pots\", usually based on geographical criteria, and teams in each pot are drawn at random to the eight groups. Since 1998, constraints have been applied to the draw to ensure that no group contains more than two European teams or more than one team from any other confederation.[70]\\nEach group plays a round-robin tournament, in which each team is scheduled for three matches against other teams in the same group. This means that a total of six matches are played within a group. The last round of matches of each group is scheduled at the same time to preserve fairness among all four teams.[71] The top two teams from each group advance to the knockout stage. Points are used to rank the teams within a group. Since 1994, three points have been awarded for a win, one for a draw and none for a loss (before, winners received two points).\\nConsidering all possible outcomes (win, draw, loss) for all six matches in a group, there are 729 (= 36) combinations possible. However, 207 of these combinations lead to ties between the second and third places. In such case, the ranking among these teams is determined by:[72]\\nThe knockout stage is a single-elimination tournament in which teams play each other in one-off matches, with extra time and penalty shootouts used to decide the winner if necessary. It begins with the round of 16 (or the second round) in which the winner of each group plays against the runner-up of another group. This is followed by the quarter-finals, the semi-finals, the third-place match (contested by the losing semi-finalists), and the final.[68]\\nOn 10 January 2017, FIFA approved a new format, the 48-team World Cup (to accommodate more teams), which consists of 16 groups of three teams each, with two teams qualifying from each group, to form a round of 32 knockout stage, to be implemented by 2026.[73]\\nEarly World Cups were given to countries at meetings of FIFA\\'s congress. The locations were controversial because South America and Europe were by far the two centres of strength in football and travel between them required three weeks by boat. The decision to hold the first World Cup in Uruguay, for example, led to only four European nations competing.[74] The next two World Cups were both held in Europe. The decision to hold the second of these in France was disputed, as the South American countries understood that the location would alternate between the two continents. Both Argentina and Uruguay thus boycotted the 1938 FIFA World Cup.[75]\\nSince the 1958 FIFA World Cup, to avoid future boycotts or controversy, FIFA began a pattern of alternating the hosts between the Americas and Europe, which continued until the 1998 FIFA World Cup. The 2002 FIFA World Cup, hosted jointly by South Korea and Japan, was the first one held in Asia, and the first tournament with multiple hosts.[76] South Africa became the first African nation to host the World Cup in 2010. The 2014 FIFA World Cup was hosted by Brazil, the first held in South America since Argentina 1978,[77] and was the first occasion where consecutive World Cups were held outside Europe.[78]\\nThe host country is now chosen in a vote by FIFA\\'s Council. This is done under an exhaustive ballot system. The national football association of a country desiring to host the event receives a \"Hosting Agreement\" from FIFA, which explains the steps and requirements that are expected from a strong bid. The bidding association also receives a form, the submission of which represents the official confirmation of the candidacy. After this, a FIFA designated group of inspectors visit the country to identify that the country meets the requirements needed to host the event and a report on the country is produced. The decision on who will host the World Cup is usually made six or seven years in advance of the tournament. There have been occasions where the hosts of multiple future tournaments were announced at the same time, as was the case for the 2018 and 2022 World Cups, which were awarded to Russia and Qatar, with Qatar becoming the first Middle Eastern country to host the tournament.[79][80]\\nFor the 2010 and 2014 World Cups, the final tournament is rotated between confederations, allowing only countries from the chosen confederation (Africa in 2010, South America in 2014) to bid to host the tournament. The rotation policy was introduced after the controversy surrounding Germany\\'s victory over South Africa in the vote to host the 2006 tournament. However, the policy of continental rotation did not continue beyond 2014, so any country, except those belonging to confederations that hosted the two preceding tournaments, can apply as hosts for World Cups starting from 2018.[81] This is partly to avoid a similar scenario to the bidding process for the 2014 tournament, where Brazil was the only official bidder.[82]\\nThe 2026 FIFA World Cup was chosen to be held in the United States, Canada and Mexico, marking the first time a World Cup has been shared by three host nations.[83] The 2026 tournament will be the biggest World Cup ever held, with 48 teams playing 80 matches. Sixty matches will take place in the US, including all matches from the quarter-finals onward, while Canada and Mexico will host 10 games each.[83]\\n* West Germany was the host of the 1974 Cup, and (reunited) Germany host to the one in 2006\\nSix of the eight champions have won one of their titles while playing in their own homeland, the exceptions being Brazil, who finished as runners-up after losing the deciding match on home soil in 1950 and lost their semi-final against Germany in 2014, and Spain, which reached the second round on home soil in 1982. England (1966) won its only title while playing as a host nation. Uruguay (1930), Italy (1934), Argentina (1978), and \\nFrance (1998) won their first titles as host nations but have gone on to win again, while Germany (1974) won their second title on home soil.[84]\\nOther nations have also been successful when hosting the tournament. Switzerland (quarter-finals 1954), Sweden (runners-up in 1958), Chile (third place in 1962), South Korea (fourth place in 2002), and Mexico (quarter-finals in 1970 and 1986) all have their best results when serving as hosts. So far, South Africa (2010) and Qatar (2022) failed to advance beyond the first round.[85]\\n Source: FIFA[87]\\n The best-attended single match has been the final in 11 of the 21 World Cups as of 2018[update]. Another match or matches drew more attendance than the final in 1930, 1938, 1958, 1962, 1970–1982, 1990, and 2006.\\nThe World Cup was first televised in 1954 and as of 2006[update] is the most widely viewed and followed sporting event in the world. The cumulative viewership of all matches of the 2006 World Cup was estimated to be 26.29\\xa0billion.[1] 715.1\\xa0million individuals watched the final match of the tournament, almost a ninth of the entire population of the planet. The 2006 World Cup draw, which decided the distribution of teams into groups, was watched by 300\\xa0million viewers.[88] The World Cup attracts major sponsors such as Coca-Cola, McDonald\\'s and Adidas. For these companies and many more, being a sponsor strongly impacts their global brands. Host countries typically experience a multimillion-dollar revenue increase from the month-long event.\\nThe governing body of the sport, FIFA, generated $4.8\\xa0billion in revenue from the 2014 tournament,[89] and $6.1\\xa0billion from the 2018 tournament.[90]\\nEach FIFA World Cup since 1966 has its own mascot or logo. World Cup Willie, the mascot for the 1966 competition, was the first World Cup mascot.[91] World Cups feature official match balls specially designed for each tournament. After Slazenger produced the ball for the 1966 World Cup Adidas became the official supplier to FIFA.[92] Each World Cup also has an official song, which have been performed by artists ranging from Shakira to Will Smith.[93][94] Other songs, such as “Nessun dorma”, performed by The Three Tenors at four World Cup concerts, have also become identified with the tournament.[95]\\n\\nForming a partnership with FIFA in 1970, Panini published its first sticker album for the 1970 World Cup.[96] Since then, collecting and trading stickers and cards has become part of the World Cup experience, especially for the younger generation.[97] FIFA has licensed World Cup video games since 1986, sponsored by Electronic Arts.[96]In all, 80 nations have played in at least one World Cup.[101] Of these, eight national teams have won the World Cup, and they have added stars to their badges, with each star representing a World Cup victory. (Uruguay, however, choose to display four stars on their badge, representing their two gold medals at the 1924 and 1928 Summer Olympics, which are recognised by FIFA as World Championships, and their two World Cup titles in 1930 and 1950).\\nWith five titles, Brazil are the most successful World Cup team and also the only nation to have played in every World Cup (22) to date.[102] Brazil were also the first team to win the World Cup for the third (1970), fourth (1994) and fifth (2002) time. Italy (1934 and 1938) and Brazil (1958 and 1962) are the only nations to have won consecutive titles. West Germany (1982–1990) and Brazil (1994–2002) are the only nations to appear in three consecutive World Cup finals. Germany has made the most top-four finishes (13), medals (12), as well as the most finals (8).\\nTo date, the final of the World Cup has only been contested by teams from the UEFA (Europe) and CONMEBOL (South America) confederations. European nations have won twelve titles, while South American have won nine. Only three teams from outside these two continents have ever reached the semi-finals of the competition: United States (North, Central America and Caribbean) in 1930; South Korea (Asia) in 2002; and Morocco (Africa) in 2022. Only one Oceanian qualifier, Australia in 2006, has advanced to the second round.[103]\\nBrazil, Argentina, Spain and Germany are the only teams to win a World Cup hosted outside their continental confederation; Brazil came out victorious in Europe (1958), North America (1970 and 1994) and Asia (2002). Argentina won a World Cup in North America in 1986, while Spain won in Africa in 2010. In 2014, Germany became the first European team to win in the Americas. Only on five occasions have consecutive World Cups been won by teams from the same continent. \\nThe consecutive run of four champions from one continental confederation (Italy, Spain, Germany, and France) has not happened before. Italy and Brazil successfully defended their titles in 1938 and 1962 respectively, while Italy\\'s triumph in 2006 has been followed by wins for Spain in 2010, Germany in 2014 and France in 2018. It is also the first time that one of the winning continents (Europe) is ahead of the other (South America) by more than one championship.\\nAt the end of each World Cup, awards are presented to the players and teams for accomplishments other than their final team positions in the tournament. \\nFive players share the record for playing in the most World Cups; Mexico\\'s Antonio Carbajal (1950–1966) and Rafael Márquez (2002–2018); Germany\\'s Lothar Matthäus (1982–1998); Argentina\\'s Lionel Messi (2006–2022); and Portugal\\'s Cristiano Ronaldo (2006–2022) all played in five tournaments with Ronaldo also being the first and only player to score in five tournaments.[107][108] Matthäus has played the most World Cup matches overall, with 25 appearances.[109] Brazil\\'s Djalma Santos (1954–1962), West Germany\\'s Franz Beckenbauer (1966–1974), and Germany\\'s Philipp Lahm (2006–2014) are the only players to be named to three World Cup All-Star Teams.[110]\\nMiroslav Klose of Germany (2002–2014) is the all-time top scorer at the World Cup with 16 goals. He broke Ronaldo of Brazil\\'s record of 15 goals (1998–2006) during the 2014 semi-final match against Brazil. West Germany\\'s Gerd Müller (1970–1974) is third, with 14 goals.[111] The fourth-placed goalscorer, France\\'s Just Fontaine, holds the record for the most goals scored in a single World Cup; all his 13 goals were scored in the 1958 tournament.[112]\\nIn November 2007, FIFA announced that all members of World Cup-winning squads between 1930 and 1974 were to be retroactively awarded winners\\' medals.[61] This made Brazil\\'s Pelé the only player to have won three World Cup winners\\' medals (1958, 1962, and 1970, although he did not play in the 1962 final due to injury),[113] with 20 other players who have won two winners\\' medals. Seven players have collected all three types of World Cup medals (winners\\', runner- ups\\', and third-place); five players were from West Germany\\'s squad of 1966–1974: Franz Beckenbauer, Jürgen Grabowski, Horst-Dieter Höttges, Sepp Maier, and Wolfgang Overath (1966–1974), Italy\\'s Franco Baresi (1982, 1990, 1994) and the most recent has been Miroslav Klose of Germany (2002–2014) with four consecutive medals.[114]\\nBrazil\\'s Mário Zagallo, West Germany\\'s Franz Beckenbauer and France\\'s Didier Deschamps are the only people to date to win the World Cup as both player and head coach. Zagallo won in 1958 and 1962 as a player and in 1970 as head coach.[115] Beckenbauer won in 1974 as captain and in 1990 as head coach,[116] and Deschamps repeated the feat in 2018, after having won in 1998 as captain.[117] Italy\\'s Vittorio Pozzo is the only head coach to ever win two World Cups (1934 and 1938).[118] All World Cup-winning head coaches were natives of the country they coached to victory.[119]\\nAmong the national teams, Germany and Brazil have played the most World Cup matches (109), Germany appeared in the most finals (8), semi-finals (13), and quarter-finals (16), while Brazil has appeared in the most World Cups (21), has the most wins (73) and has scored the most goals (229).[120][121] The two teams have played each other twice in the World Cup, in the 2002 final and in the 2014 semi-final.[122]\\nThe system used in the World Cup up to 1990 was 2 points for a win. In this ranking 3 points are awarded for a win, 1 for a draw and 0 for a loss. As per statistical convention in football, matches decided in extra time are counted as wins and losses, while matches decided by penalty shoot-outs are counted as draws. Teams are ranked by total points, then by goal difference, then by goals scored.[123]\\n'"
      ]
     },
     "execution_count": 7,
     "metadata": {},
     "output_type": "execute_result"
    }
   ],
   "source": [
    "article_text"
   ]
  },
  {
   "cell_type": "markdown",
   "metadata": {},
   "source": [
    "## Pre-Processing the Text"
   ]
  },
  {
   "cell_type": "markdown",
   "metadata": {},
   "source": [
    "The first preprocessing step is to remove references from the article. Wikipedia, references are enclosed in square brackets. "
   ]
  },
  {
   "cell_type": "code",
   "execution_count": 8,
   "metadata": {},
   "outputs": [],
   "source": [
    "#Removing square brackets and extra spaces\n",
    "article_text = re.sub(r'\\[[0-9]*\\]', ' ', article_text)\n",
    "article_text = re.sub(r'\\s+', ' ', article_text)"
   ]
  },
  {
   "cell_type": "code",
   "execution_count": 9,
   "metadata": {},
   "outputs": [],
   "source": [
    "#Removing special characters and digits\n",
    "processed_text = re.sub('[^a-zA-Z0-9]', ' ', article_text)\n",
    "processed_text = re.sub(r'\\s+',' ', processed_text)"
   ]
  },
  {
   "cell_type": "markdown",
   "metadata": {},
   "source": [
    "article_text contains the original article and processed_article contains the processed article. In order to create the weighted frequency of the words, we will use the latter. "
   ]
  },
  {
   "cell_type": "markdown",
   "metadata": {},
   "source": [
    "## Converting Text to Sentences"
   ]
  },
  {
   "cell_type": "code",
   "execution_count": 10,
   "metadata": {},
   "outputs": [],
   "source": [
    "sentences = nltk.sent_tokenize(article_text)"
   ]
  },
  {
   "cell_type": "code",
   "execution_count": 11,
   "metadata": {},
   "outputs": [
    {
     "data": {
      "text/plain": [
       "242"
      ]
     },
     "execution_count": 11,
     "metadata": {},
     "output_type": "execute_result"
    }
   ],
   "source": [
    "len(sentences)\n",
    "#The number of sentences in the text"
   ]
  },
  {
   "cell_type": "markdown",
   "metadata": {},
   "source": [
    "## Finding the Weighted Frequency of occurrence"
   ]
  },
  {
   "cell_type": "code",
   "execution_count": 12,
   "metadata": {},
   "outputs": [],
   "source": [
    "from nltk.corpus import stopwords"
   ]
  },
  {
   "cell_type": "code",
   "execution_count": 13,
   "metadata": {},
   "outputs": [],
   "source": [
    "stopwords = stopwords.words('english')\n",
    "\n",
    "word_frequencies = {}\n",
    "for word in nltk.word_tokenize(processed_text):\n",
    "    if word not in stopwords:\n",
    "        if word not in word_frequencies.keys():\n",
    "            word_frequencies[word] = 1\n",
    "        else:\n",
    "            word_frequencies[word] += 1"
   ]
  },
  {
   "cell_type": "markdown",
   "metadata": {},
   "source": [
    "- First, we store all the stopwords in the English language from the nltk library into a variable named <b> stopwords </b>. \n",
    "- We then loop through all the sentences and corresponding words to check if they are stop words. If not, we proceed to check whether the words exist in the <b> word_frequency dictionary </b> or not. \n",
    "- If the word is encountered for the first time, it is added to the dictionary, that is, its frequency is set to 1.\n",
    "- If the word is already present, the freqeuency of the word is updated. \n",
    "- Finally, to find the weighted frequency, we divide the frequency of each word by the maximum frequency of any word in the text."
   ]
  },
  {
   "cell_type": "code",
   "execution_count": 14,
   "metadata": {},
   "outputs": [],
   "source": [
    "max_freq = max(word_frequencies.values())\n",
    "\n",
    "for word in word_frequencies.keys():\n",
    "    word_frequencies[word] = (word_frequencies[word]/max_freq)"
   ]
  },
  {
   "cell_type": "markdown",
   "metadata": {},
   "source": [
    "## Calculating Sentence Scores"
   ]
  },
  {
   "cell_type": "code",
   "execution_count": 15,
   "metadata": {},
   "outputs": [],
   "source": [
    "sentence_scores = {}\n",
    "\n",
    "for sent in sentences:\n",
    "    for word in nltk.sent_tokenize(sent.lower()):\n",
    "        for word in word_frequencies.keys():\n",
    "            if len(sent.split(' ')) < 40:\n",
    "                if sent not in sentence_scores.keys():\n",
    "                    sentence_scores[sent] = word_frequencies[word]\n",
    "                else:\n",
    "                    sentence_scores[sent] += word_frequencies[word]"
   ]
  },
  {
   "cell_type": "markdown",
   "metadata": {},
   "source": [
    "- We first create an empty <b> sentence_scores </b> dictionary. The keys of this dictionary will be the sentences themselves and the values will be the corresponding scores of the sentences.\n",
    "- We loop through each sentence in the <b> sentence_list </b> and tokenize the sentence into words. \n",
    "- We then check if the word exists in the <b> word_frequencies </b> dictionary. This check is performed since we created the <b> sentence_list </b> list from the article_text object; on the other hand, the word frequencies were calculated using the <b> processed_text </b> object, which doesn't contain any stop words, numbers, etc.\n",
    "- We do not want very long sentences in the summary. Hence, we look only at those sentences with less than 40 words. \n",
    "- We check if the sentence exists in the sentence_scores dictionary or not. If it doesn't, we add it to the sentence_scores dictionary as a key and assign it to the weighted frequency of the first word in the sentence. \n",
    "- If it already exists, we add the weighted frequency of the word to the existing value. "
   ]
  },
  {
   "cell_type": "markdown",
   "metadata": {},
   "source": [
    "## Getting the summary"
   ]
  },
  {
   "cell_type": "code",
   "execution_count": 19,
   "metadata": {},
   "outputs": [
    {
     "name": "stdout",
     "output_type": "stream",
     "text": [
      "In November 2007, FIFA announced that all members of World Cup-winning squads between 1930 and 1974 were to be retroactively awarded winners' medals. The reigning champions are France, who won their second title at the 2018 tournament in Russia. The format involves a qualification phase, which takes place over the preceding three years, to determine which teams qualify for the tournament phase. In the tournament phase, 32 teams compete for the title at venues within the host nation(s) over about a month. The host nation(s) automatically qualify. As of the 2018 FIFA World Cup, twenty-one final tournaments have been held and a total of 79 national teams have competed. The trophy has been won by eight national teams. Brazil have won five times, and they are the only team to have played in every tournament. The World Cup is the most prestigious association football tournament in the world, as well as the most widely viewed and followed single sporting event in the world. Seventeen countries have hosted the World Cup. The world's first international football match was a challenge match played in Glasgow in 1872 between Scotland and England. The first international tournament for nations, the inaugural British Home Championship, took place in 1884. After FIFA was founded in 1904, it tried to arrange an international football tournament between nations outside the Olympic framework in Switzerland in 1906. These were very early days for international football, and the official history of FIFA describes the competition as having been a failure. At the 1908 Summer Olympics in London, football became an official competition. Planned by The Football Association (FA), England's football governing body, the event was for amateur players only and was regarded suspiciously as a show rather than a competition. Great Britain (represented by the England national amateur football team) won the gold medals. They repeated the feat at the 1912 Summer Olympics in Stockholm. With the Olympic event continuing to be contested only between amateur teams, Sir Thomas Lipton organised the Sir Thomas Lipton Trophy tournament in Turin in 1909. The Lipton tournament was a championship between individual clubs (not national teams) from different nations, each one of which represented an entire nation. Lipton invited West Auckland, an amateur side from County Durham, to represent England instead. West Auckland won the tournament and returned in 1911 to successfully defend their title. and the Heart of Midlothian F.C., which Sunderland won. In 1914, FIFA agreed to recognise the Olympic tournament as a \"world football championship for amateurs\", and took responsibility for managing the event. This paved the way for the world's first intercontinental football competition for nations, at the 1920 Summer Olympics, contested by Egypt and 13 European teams, and won by Belgium.\n"
     ]
    }
   ],
   "source": [
    "import heapq\n",
    "summary_sent = heapq.nlargest(25, sentence_scores, key = sentence_scores.get)\n",
    "#returns the top n sentences with the highest scores\n",
    "\n",
    "summary = ' '.join(summary_sent)\n",
    "print(summary)"
   ]
  },
  {
   "cell_type": "code",
   "execution_count": null,
   "metadata": {},
   "outputs": [],
   "source": []
  }
 ],
 "metadata": {
  "kernelspec": {
   "display_name": "Python 3",
   "language": "python",
   "name": "python3"
  },
  "language_info": {
   "codemirror_mode": {
    "name": "ipython",
    "version": 3
   },
   "file_extension": ".py",
   "mimetype": "text/x-python",
   "name": "python",
   "nbconvert_exporter": "python",
   "pygments_lexer": "ipython3",
   "version": "3.8.5"
  }
 },
 "nbformat": 4,
 "nbformat_minor": 4
}
